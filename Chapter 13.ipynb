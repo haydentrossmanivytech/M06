{
 "cells": [
  {
   "cell_type": "code",
   "execution_count": 1,
   "id": "8061c4b0",
   "metadata": {},
   "outputs": [],
   "source": [
    "import datetime\n",
    "\n",
    "current_date = datetime.date.today()\n",
    "\n",
    "date_string = current_date.strftime('%Y-%m-%d') "
   ]
  },
  {
   "cell_type": "code",
   "execution_count": 2,
   "id": "1949f59c",
   "metadata": {},
   "outputs": [
    {
     "name": "stdout",
     "output_type": "stream",
     "text": [
      "2023-10-01\n"
     ]
    }
   ],
   "source": [
    "print(date_string)"
   ]
  },
  {
   "cell_type": "code",
   "execution_count": 4,
   "id": "88b0c2f9",
   "metadata": {},
   "outputs": [],
   "source": [
    "import time\n",
    "fmt = \"%Y-%m-%d\"\n",
    "date_date = time.strptime(date_string, fmt)"
   ]
  },
  {
   "cell_type": "code",
   "execution_count": 5,
   "id": "3dd10ca1",
   "metadata": {},
   "outputs": [
    {
     "name": "stdout",
     "output_type": "stream",
     "text": [
      "time.struct_time(tm_year=2023, tm_mon=10, tm_mday=1, tm_hour=0, tm_min=0, tm_sec=0, tm_wday=6, tm_yday=274, tm_isdst=-1)\n"
     ]
    }
   ],
   "source": [
    "print(date_date)"
   ]
  },
  {
   "cell_type": "code",
   "execution_count": null,
   "id": "170b0f23",
   "metadata": {},
   "outputs": [],
   "source": []
  }
 ],
 "metadata": {
  "kernelspec": {
   "display_name": "Python 3 (ipykernel)",
   "language": "python",
   "name": "python3"
  },
  "language_info": {
   "codemirror_mode": {
    "name": "ipython",
    "version": 3
   },
   "file_extension": ".py",
   "mimetype": "text/x-python",
   "name": "python",
   "nbconvert_exporter": "python",
   "pygments_lexer": "ipython3",
   "version": "3.11.4"
  }
 },
 "nbformat": 4,
 "nbformat_minor": 5
}
